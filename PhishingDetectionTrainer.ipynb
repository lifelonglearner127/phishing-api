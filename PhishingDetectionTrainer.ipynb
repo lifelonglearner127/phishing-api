{
 "cells": [
  {
   "cell_type": "code",
   "execution_count": 1,
   "metadata": {},
   "outputs": [],
   "source": [
    "import warnings\n",
    "warnings.filterwarnings('ignore')\n",
    "\n",
    "import matplotlib.pyplot as plt\n",
    "import numpy as np\n",
    "import pandas as pd\n",
    "\n",
    "from sklearn.model_selection import train_test_split\n",
    "from sklearn.metrics import classification_report\n",
    "from tensorflow import keras"
   ]
  },
  {
   "cell_type": "code",
   "execution_count": 2,
   "metadata": {},
   "outputs": [
    {
     "data": {
      "text/plain": [
       "'\\nclass 0 = legitimate\\nclass 1 = phishing\\n'"
      ]
     },
     "execution_count": 2,
     "metadata": {},
     "output_type": "execute_result"
    }
   ],
   "source": [
    "\"\"\"\n",
    "class 0 = legitimate\n",
    "class 1 = phishing\n",
    "\"\"\""
   ]
  },
  {
   "cell_type": "code",
   "execution_count": 3,
   "metadata": {},
   "outputs": [],
   "source": [
    "\"\"\"\n",
    "    Read and format dataset to fit into CNN model shape (91 features)\n",
    "\"\"\"\n",
    "df_2 = pd.read_csv('dataset/new/dataset.csv')\n",
    "\n",
    "df_2.phishing = df_2.phishing * 1\n",
    "\n",
    "df_2.ssl = df_2.ssl * 1\n",
    "\n",
    "df_2 = df_2.astype(float)\n",
    "X = df_2.drop('phishing', axis=1)\n",
    "y = df_2['phishing']"
   ]
  },
  {
   "cell_type": "code",
   "execution_count": 4,
   "metadata": {},
   "outputs": [],
   "source": [
    "X_train, X_test, y_train, y_test = train_test_split(X, y, test_size=0.2, random_state=42)"
   ]
  },
  {
   "cell_type": "code",
   "execution_count": 5,
   "metadata": {},
   "outputs": [],
   "source": [
    "_X_train=X_train.values.reshape(X_train.shape[0], X_train.shape[1], 1)\n",
    "_X_test=X_test.values.reshape(X_test.shape[0], X_test.shape[1], 1)"
   ]
  },
  {
   "cell_type": "code",
   "execution_count": 6,
   "metadata": {
    "scrolled": true,
    "tags": []
   },
   "outputs": [
    {
     "name": "stdout",
     "output_type": "stream",
     "text": [
      "Model: \"sequential\"\n",
      "_________________________________________________________________\n",
      "Layer (type)                 Output Shape              Param #   \n",
      "=================================================================\n",
      "conv1d (Conv1D)              (None, 90, 64)            192       \n",
      "_________________________________________________________________\n",
      "dense (Dense)                (None, 90, 16)            1040      \n",
      "_________________________________________________________________\n",
      "max_pooling1d (MaxPooling1D) (None, 45, 16)            0         \n",
      "_________________________________________________________________\n",
      "flatten (Flatten)            (None, 720)               0         \n",
      "_________________________________________________________________\n",
      "dense_1 (Dense)              (None, 2)                 1442      \n",
      "=================================================================\n",
      "Total params: 2,674\n",
      "Trainable params: 2,674\n",
      "Non-trainable params: 0\n",
      "_________________________________________________________________\n",
      "Epoch 1/100\n",
      "20/20 [==============================] - 0s 11ms/step - loss: 34.9248 - accuracy: 0.5884 - mse: 0.4698 - val_loss: 4.7163 - val_accuracy: 0.6438 - val_mse: 0.4488\n",
      "Epoch 2/100\n",
      "20/20 [==============================] - 0s 3ms/step - loss: 5.6854 - accuracy: 0.6729 - mse: 0.4660 - val_loss: 2.0776 - val_accuracy: 0.7063 - val_mse: 0.4688\n",
      "Epoch 3/100\n",
      "20/20 [==============================] - 0s 3ms/step - loss: 6.7658 - accuracy: 0.6808 - mse: 0.4590 - val_loss: 3.9379 - val_accuracy: 0.7188 - val_mse: 0.4793\n",
      "Epoch 4/100\n",
      "20/20 [==============================] - 0s 3ms/step - loss: 2.7477 - accuracy: 0.7136 - mse: 0.4583 - val_loss: 1.6900 - val_accuracy: 0.7312 - val_mse: 0.4705\n",
      "Epoch 5/100\n",
      "20/20 [==============================] - 0s 3ms/step - loss: 3.5035 - accuracy: 0.6870 - mse: 0.4619 - val_loss: 7.3114 - val_accuracy: 0.5250 - val_mse: 0.4725\n",
      "Epoch 6/100\n",
      "20/20 [==============================] - 0s 3ms/step - loss: 3.5119 - accuracy: 0.7293 - mse: 0.4589 - val_loss: 3.7996 - val_accuracy: 0.6812 - val_mse: 0.4734\n",
      "Epoch 7/100\n",
      "20/20 [==============================] - 0s 3ms/step - loss: 3.3783 - accuracy: 0.7261 - mse: 0.4578 - val_loss: 7.8121 - val_accuracy: 0.7000 - val_mse: 0.4774\n",
      "Epoch 8/100\n",
      "20/20 [==============================] - 0s 4ms/step - loss: 4.9735 - accuracy: 0.7105 - mse: 0.4726 - val_loss: 13.1831 - val_accuracy: 0.6938 - val_mse: 0.4943\n",
      "Epoch 9/100\n",
      "20/20 [==============================] - 0s 3ms/step - loss: 7.8231 - accuracy: 0.6823 - mse: 0.4721 - val_loss: 4.4593 - val_accuracy: 0.7312 - val_mse: 0.4899\n",
      "Epoch 10/100\n",
      "20/20 [==============================] - 0s 3ms/step - loss: 1.8533 - accuracy: 0.7872 - mse: 0.4633 - val_loss: 1.8971 - val_accuracy: 0.7437 - val_mse: 0.4776\n",
      "Epoch 11/100\n",
      "20/20 [==============================] - 0s 3ms/step - loss: 2.0107 - accuracy: 0.7480 - mse: 0.4618 - val_loss: 2.8692 - val_accuracy: 0.7250 - val_mse: 0.4605\n",
      "Epoch 12/100\n",
      "20/20 [==============================] - 0s 3ms/step - loss: 3.2781 - accuracy: 0.7465 - mse: 0.4670 - val_loss: 4.6371 - val_accuracy: 0.7063 - val_mse: 0.4679\n",
      "Epoch 13/100\n",
      "20/20 [==============================] - 0s 4ms/step - loss: 4.8024 - accuracy: 0.7121 - mse: 0.4688 - val_loss: 4.5038 - val_accuracy: 0.7375 - val_mse: 0.4793\n",
      "Epoch 14/100\n",
      "20/20 [==============================] - 0s 4ms/step - loss: 1.9792 - accuracy: 0.7559 - mse: 0.4635 - val_loss: 2.5452 - val_accuracy: 0.7500 - val_mse: 0.4637\n",
      "Epoch 15/100\n",
      "20/20 [==============================] - 0s 3ms/step - loss: 2.4030 - accuracy: 0.7559 - mse: 0.4686 - val_loss: 1.3706 - val_accuracy: 0.7250 - val_mse: 0.4765\n",
      "Epoch 16/100\n",
      "20/20 [==============================] - 0s 3ms/step - loss: 1.7490 - accuracy: 0.7496 - mse: 0.4623 - val_loss: 2.4116 - val_accuracy: 0.7312 - val_mse: 0.4562\n",
      "Epoch 17/100\n",
      "20/20 [==============================] - 0s 4ms/step - loss: 1.9286 - accuracy: 0.7465 - mse: 0.4549 - val_loss: 4.2265 - val_accuracy: 0.7125 - val_mse: 0.4605\n",
      "Epoch 18/100\n",
      "20/20 [==============================] - 0s 3ms/step - loss: 2.1419 - accuracy: 0.7355 - mse: 0.4687 - val_loss: 2.3067 - val_accuracy: 0.7188 - val_mse: 0.4836\n",
      "Epoch 19/100\n",
      "20/20 [==============================] - 0s 4ms/step - loss: 2.4226 - accuracy: 0.7340 - mse: 0.4633 - val_loss: 3.2127 - val_accuracy: 0.7437 - val_mse: 0.4827\n",
      "Epoch 20/100\n",
      "20/20 [==============================] - 0s 3ms/step - loss: 2.8141 - accuracy: 0.7496 - mse: 0.4678 - val_loss: 1.4436 - val_accuracy: 0.7312 - val_mse: 0.4487\n",
      "Epoch 21/100\n",
      "20/20 [==============================] - 0s 3ms/step - loss: 1.6165 - accuracy: 0.7653 - mse: 0.4577 - val_loss: 1.7581 - val_accuracy: 0.6875 - val_mse: 0.4710\n",
      "Epoch 22/100\n",
      "20/20 [==============================] - 0s 4ms/step - loss: 0.8176 - accuracy: 0.7887 - mse: 0.4471 - val_loss: 1.4501 - val_accuracy: 0.7563 - val_mse: 0.4454\n",
      "Epoch 23/100\n",
      "20/20 [==============================] - 0s 4ms/step - loss: 0.8121 - accuracy: 0.7981 - mse: 0.4387 - val_loss: 1.2205 - val_accuracy: 0.7375 - val_mse: 0.4442\n",
      "Epoch 24/100\n",
      "20/20 [==============================] - 0s 3ms/step - loss: 1.0355 - accuracy: 0.7762 - mse: 0.4488 - val_loss: 0.8379 - val_accuracy: 0.7500 - val_mse: 0.4574\n",
      "Epoch 25/100\n",
      "20/20 [==============================] - 0s 4ms/step - loss: 1.2226 - accuracy: 0.7746 - mse: 0.4405 - val_loss: 1.8897 - val_accuracy: 0.7500 - val_mse: 0.4479\n",
      "Epoch 26/100\n",
      "20/20 [==============================] - 0s 4ms/step - loss: 1.5275 - accuracy: 0.7715 - mse: 0.4505 - val_loss: 0.7066 - val_accuracy: 0.7750 - val_mse: 0.4521\n",
      "Epoch 27/100\n",
      "20/20 [==============================] - 0s 4ms/step - loss: 1.2903 - accuracy: 0.7809 - mse: 0.4497 - val_loss: 3.0828 - val_accuracy: 0.6812 - val_mse: 0.4642\n",
      "Epoch 28/100\n",
      "20/20 [==============================] - 0s 3ms/step - loss: 1.1266 - accuracy: 0.7903 - mse: 0.4533 - val_loss: 0.8040 - val_accuracy: 0.8000 - val_mse: 0.4322\n",
      "Epoch 29/100\n",
      "20/20 [==============================] - 0s 3ms/step - loss: 1.0148 - accuracy: 0.7981 - mse: 0.4318 - val_loss: 1.7757 - val_accuracy: 0.7250 - val_mse: 0.4716\n",
      "Epoch 30/100\n",
      "20/20 [==============================] - 0s 3ms/step - loss: 1.3495 - accuracy: 0.7903 - mse: 0.4504 - val_loss: 1.1896 - val_accuracy: 0.7688 - val_mse: 0.4412\n",
      "Epoch 31/100\n",
      "20/20 [==============================] - 0s 4ms/step - loss: 0.7511 - accuracy: 0.8106 - mse: 0.4304 - val_loss: 1.8712 - val_accuracy: 0.7437 - val_mse: 0.4712\n",
      "Epoch 32/100\n",
      "20/20 [==============================] - 0s 3ms/step - loss: 1.8432 - accuracy: 0.7527 - mse: 0.4496 - val_loss: 0.6754 - val_accuracy: 0.8062 - val_mse: 0.4294\n",
      "Epoch 33/100\n",
      "20/20 [==============================] - 0s 3ms/step - loss: 1.0966 - accuracy: 0.7903 - mse: 0.4420 - val_loss: 0.9550 - val_accuracy: 0.7688 - val_mse: 0.4558\n",
      "Epoch 34/100\n",
      "20/20 [==============================] - 0s 4ms/step - loss: 0.9635 - accuracy: 0.7919 - mse: 0.4378 - val_loss: 1.3742 - val_accuracy: 0.7500 - val_mse: 0.4526\n",
      "Epoch 35/100\n",
      "20/20 [==============================] - 0s 4ms/step - loss: 0.8690 - accuracy: 0.7966 - mse: 0.4414 - val_loss: 0.8046 - val_accuracy: 0.7750 - val_mse: 0.4437\n",
      "Epoch 36/100\n",
      "20/20 [==============================] - 0s 3ms/step - loss: 0.5201 - accuracy: 0.8310 - mse: 0.4313 - val_loss: 1.9938 - val_accuracy: 0.7437 - val_mse: 0.4680\n",
      "Epoch 37/100\n",
      "20/20 [==============================] - 0s 4ms/step - loss: 0.7851 - accuracy: 0.8153 - mse: 0.4348 - val_loss: 0.7767 - val_accuracy: 0.8000 - val_mse: 0.4287\n",
      "Epoch 38/100\n",
      "20/20 [==============================] - 0s 3ms/step - loss: 0.8547 - accuracy: 0.8216 - mse: 0.4306 - val_loss: 0.6112 - val_accuracy: 0.8188 - val_mse: 0.4255\n",
      "Epoch 39/100\n",
      "20/20 [==============================] - 0s 3ms/step - loss: 0.8503 - accuracy: 0.8169 - mse: 0.4309 - val_loss: 0.5988 - val_accuracy: 0.7875 - val_mse: 0.4448\n",
      "Epoch 40/100\n",
      "20/20 [==============================] - 0s 4ms/step - loss: 0.6546 - accuracy: 0.8059 - mse: 0.4381 - val_loss: 0.6137 - val_accuracy: 0.7812 - val_mse: 0.4303\n",
      "Epoch 41/100\n",
      "20/20 [==============================] - 0s 4ms/step - loss: 0.8149 - accuracy: 0.8013 - mse: 0.4293 - val_loss: 1.7528 - val_accuracy: 0.7500 - val_mse: 0.4581\n",
      "Epoch 42/100\n"
     ]
    },
    {
     "name": "stdout",
     "output_type": "stream",
     "text": [
      "20/20 [==============================] - 0s 4ms/step - loss: 0.6109 - accuracy: 0.8326 - mse: 0.4264 - val_loss: 0.5691 - val_accuracy: 0.7563 - val_mse: 0.4284\n",
      "Epoch 43/100\n",
      "20/20 [==============================] - 0s 3ms/step - loss: 1.3215 - accuracy: 0.7966 - mse: 0.4449 - val_loss: 3.6813 - val_accuracy: 0.7312 - val_mse: 0.4700\n",
      "Epoch 44/100\n",
      "20/20 [==============================] - 0s 3ms/step - loss: 2.3402 - accuracy: 0.7277 - mse: 0.4543 - val_loss: 1.9200 - val_accuracy: 0.7188 - val_mse: 0.4805\n",
      "Epoch 45/100\n",
      "20/20 [==============================] - 0s 3ms/step - loss: 1.0864 - accuracy: 0.7872 - mse: 0.4530 - val_loss: 1.7734 - val_accuracy: 0.7750 - val_mse: 0.4481\n",
      "Epoch 46/100\n",
      "20/20 [==============================] - 0s 3ms/step - loss: 0.7984 - accuracy: 0.8138 - mse: 0.4414 - val_loss: 1.2606 - val_accuracy: 0.7625 - val_mse: 0.4487\n",
      "Epoch 47/100\n",
      "20/20 [==============================] - 0s 3ms/step - loss: 0.7351 - accuracy: 0.8216 - mse: 0.4347 - val_loss: 1.2101 - val_accuracy: 0.7688 - val_mse: 0.4335\n",
      "Epoch 48/100\n",
      "20/20 [==============================] - 0s 3ms/step - loss: 1.0857 - accuracy: 0.7997 - mse: 0.4336 - val_loss: 0.9931 - val_accuracy: 0.7563 - val_mse: 0.4459\n",
      "Epoch 49/100\n",
      "20/20 [==============================] - 0s 3ms/step - loss: 0.4832 - accuracy: 0.8326 - mse: 0.4347 - val_loss: 0.8307 - val_accuracy: 0.7750 - val_mse: 0.4493\n",
      "Epoch 50/100\n",
      "20/20 [==============================] - 0s 3ms/step - loss: 0.5080 - accuracy: 0.8122 - mse: 0.4351 - val_loss: 0.5914 - val_accuracy: 0.7750 - val_mse: 0.4538\n",
      "Epoch 51/100\n",
      "20/20 [==============================] - 0s 3ms/step - loss: 0.5363 - accuracy: 0.8263 - mse: 0.4348 - val_loss: 1.0022 - val_accuracy: 0.7688 - val_mse: 0.4588\n",
      "Epoch 52/100\n",
      "20/20 [==============================] - 0s 3ms/step - loss: 0.7634 - accuracy: 0.7966 - mse: 0.4377 - val_loss: 0.6358 - val_accuracy: 0.7812 - val_mse: 0.4542\n",
      "Epoch 53/100\n",
      "20/20 [==============================] - 0s 3ms/step - loss: 0.8038 - accuracy: 0.7872 - mse: 0.4391 - val_loss: 0.7276 - val_accuracy: 0.7750 - val_mse: 0.4461\n",
      "Epoch 54/100\n",
      "20/20 [==============================] - 0s 3ms/step - loss: 0.9023 - accuracy: 0.7966 - mse: 0.4410 - val_loss: 1.9175 - val_accuracy: 0.7375 - val_mse: 0.4488\n",
      "Epoch 55/100\n",
      "20/20 [==============================] - 0s 3ms/step - loss: 0.6145 - accuracy: 0.8232 - mse: 0.4417 - val_loss: 0.5125 - val_accuracy: 0.7750 - val_mse: 0.4297\n",
      "Epoch 56/100\n",
      "20/20 [==============================] - 0s 3ms/step - loss: 0.5428 - accuracy: 0.8404 - mse: 0.4350 - val_loss: 0.6792 - val_accuracy: 0.8125 - val_mse: 0.4281\n",
      "Epoch 57/100\n",
      "20/20 [==============================] - 0s 3ms/step - loss: 0.4168 - accuracy: 0.8513 - mse: 0.4317 - val_loss: 0.9805 - val_accuracy: 0.7375 - val_mse: 0.4631\n",
      "Epoch 58/100\n",
      "20/20 [==============================] - 0s 3ms/step - loss: 0.5525 - accuracy: 0.8122 - mse: 0.4351 - val_loss: 0.8633 - val_accuracy: 0.7875 - val_mse: 0.4369\n",
      "Epoch 59/100\n",
      "20/20 [==============================] - 0s 3ms/step - loss: 0.6761 - accuracy: 0.8169 - mse: 0.4345 - val_loss: 1.1412 - val_accuracy: 0.7563 - val_mse: 0.4448\n",
      "Epoch 60/100\n",
      "20/20 [==============================] - 0s 4ms/step - loss: 0.4740 - accuracy: 0.8592 - mse: 0.4309 - val_loss: 0.5050 - val_accuracy: 0.7875 - val_mse: 0.4399\n",
      "Epoch 61/100\n",
      "20/20 [==============================] - 0s 3ms/step - loss: 0.3588 - accuracy: 0.8638 - mse: 0.4279 - val_loss: 0.5708 - val_accuracy: 0.7937 - val_mse: 0.4367\n",
      "Epoch 62/100\n",
      "20/20 [==============================] - 0s 3ms/step - loss: 0.4153 - accuracy: 0.8560 - mse: 0.4233 - val_loss: 0.3923 - val_accuracy: 0.8188 - val_mse: 0.4355\n",
      "Epoch 63/100\n",
      "20/20 [==============================] - 0s 3ms/step - loss: 0.2875 - accuracy: 0.8795 - mse: 0.4256 - val_loss: 0.3919 - val_accuracy: 0.8313 - val_mse: 0.4280\n",
      "Epoch 64/100\n",
      "20/20 [==============================] - 0s 3ms/step - loss: 0.3349 - accuracy: 0.8576 - mse: 0.4228 - val_loss: 1.1475 - val_accuracy: 0.7500 - val_mse: 0.4620\n",
      "Epoch 65/100\n",
      "20/20 [==============================] - 0s 4ms/step - loss: 1.3287 - accuracy: 0.8153 - mse: 0.4372 - val_loss: 1.4305 - val_accuracy: 0.7563 - val_mse: 0.4480\n",
      "Epoch 66/100\n",
      "20/20 [==============================] - 0s 3ms/step - loss: 0.5069 - accuracy: 0.8435 - mse: 0.4390 - val_loss: 0.4018 - val_accuracy: 0.8438 - val_mse: 0.4326\n",
      "Epoch 67/100\n",
      "20/20 [==============================] - 0s 3ms/step - loss: 0.4134 - accuracy: 0.8670 - mse: 0.4303 - val_loss: 0.3731 - val_accuracy: 0.8313 - val_mse: 0.4338\n",
      "Epoch 68/100\n",
      "20/20 [==============================] - 0s 3ms/step - loss: 0.3918 - accuracy: 0.8717 - mse: 0.4243 - val_loss: 0.8336 - val_accuracy: 0.7688 - val_mse: 0.4330\n",
      "Epoch 69/100\n",
      "20/20 [==============================] - 0s 3ms/step - loss: 0.7042 - accuracy: 0.8451 - mse: 0.4274 - val_loss: 0.5473 - val_accuracy: 0.7875 - val_mse: 0.4276\n",
      "Epoch 70/100\n",
      "20/20 [==============================] - 0s 3ms/step - loss: 0.2891 - accuracy: 0.8951 - mse: 0.4238 - val_loss: 1.1292 - val_accuracy: 0.7937 - val_mse: 0.4407\n",
      "Epoch 71/100\n",
      "20/20 [==============================] - 0s 3ms/step - loss: 0.4364 - accuracy: 0.8607 - mse: 0.4291 - val_loss: 0.5521 - val_accuracy: 0.8062 - val_mse: 0.4294\n",
      "Epoch 72/100\n",
      "20/20 [==============================] - 0s 3ms/step - loss: 0.4601 - accuracy: 0.8513 - mse: 0.4249 - val_loss: 0.3686 - val_accuracy: 0.8313 - val_mse: 0.4224\n",
      "Epoch 73/100\n",
      "20/20 [==============================] - 0s 3ms/step - loss: 0.2611 - accuracy: 0.8967 - mse: 0.4308 - val_loss: 0.8058 - val_accuracy: 0.8188 - val_mse: 0.4316\n",
      "Epoch 74/100\n",
      "20/20 [==============================] - 0s 3ms/step - loss: 0.4289 - accuracy: 0.8826 - mse: 0.4217 - val_loss: 0.7418 - val_accuracy: 0.8250 - val_mse: 0.4281\n",
      "Epoch 75/100\n",
      "20/20 [==============================] - 0s 3ms/step - loss: 0.5439 - accuracy: 0.8638 - mse: 0.4325 - val_loss: 0.8318 - val_accuracy: 0.7688 - val_mse: 0.4541\n",
      "Epoch 76/100\n",
      "20/20 [==============================] - 0s 3ms/step - loss: 0.6525 - accuracy: 0.8310 - mse: 0.4335 - val_loss: 0.3870 - val_accuracy: 0.8125 - val_mse: 0.4397\n",
      "Epoch 77/100\n",
      "20/20 [==============================] - 0s 3ms/step - loss: 0.2825 - accuracy: 0.8905 - mse: 0.4253 - val_loss: 0.3579 - val_accuracy: 0.8250 - val_mse: 0.4337\n",
      "Epoch 78/100\n",
      "20/20 [==============================] - 0s 3ms/step - loss: 0.2345 - accuracy: 0.9092 - mse: 0.4217 - val_loss: 0.3529 - val_accuracy: 0.8813 - val_mse: 0.4261\n",
      "Epoch 79/100\n",
      "20/20 [==============================] - 0s 3ms/step - loss: 0.2347 - accuracy: 0.9061 - mse: 0.4232 - val_loss: 0.8249 - val_accuracy: 0.8375 - val_mse: 0.4255\n",
      "Epoch 80/100\n",
      "20/20 [==============================] - 0s 4ms/step - loss: 0.3434 - accuracy: 0.8889 - mse: 0.4227 - val_loss: 0.3388 - val_accuracy: 0.8562 - val_mse: 0.4249\n",
      "Epoch 81/100\n",
      "20/20 [==============================] - 0s 3ms/step - loss: 0.3772 - accuracy: 0.8654 - mse: 0.4267 - val_loss: 0.4837 - val_accuracy: 0.8000 - val_mse: 0.4445\n",
      "Epoch 82/100\n",
      "20/20 [==============================] - 0s 3ms/step - loss: 0.2559 - accuracy: 0.8905 - mse: 0.4250 - val_loss: 0.4616 - val_accuracy: 0.8125 - val_mse: 0.4351\n",
      "Epoch 83/100\n",
      "20/20 [==============================] - 0s 3ms/step - loss: 0.3165 - accuracy: 0.8858 - mse: 0.4229 - val_loss: 0.3085 - val_accuracy: 0.8438 - val_mse: 0.4275\n",
      "Epoch 84/100\n",
      "20/20 [==============================] - 0s 3ms/step - loss: 0.2797 - accuracy: 0.8858 - mse: 0.4244 - val_loss: 0.5693 - val_accuracy: 0.7937 - val_mse: 0.4255\n",
      "Epoch 85/100\n",
      "20/20 [==============================] - 0s 3ms/step - loss: 0.4375 - accuracy: 0.8560 - mse: 0.4255 - val_loss: 0.7054 - val_accuracy: 0.8250 - val_mse: 0.4255\n",
      "Epoch 86/100\n",
      "20/20 [==============================] - 0s 3ms/step - loss: 0.2473 - accuracy: 0.8889 - mse: 0.4244 - val_loss: 0.3612 - val_accuracy: 0.8562 - val_mse: 0.4258\n",
      "Epoch 87/100\n",
      "20/20 [==============================] - 0s 3ms/step - loss: 0.4284 - accuracy: 0.8592 - mse: 0.4269 - val_loss: 0.5460 - val_accuracy: 0.8250 - val_mse: 0.4301\n",
      "Epoch 88/100\n",
      "20/20 [==============================] - 0s 3ms/step - loss: 0.3854 - accuracy: 0.8638 - mse: 0.4268 - val_loss: 0.7525 - val_accuracy: 0.8500 - val_mse: 0.4276\n",
      "Epoch 89/100\n"
     ]
    },
    {
     "name": "stdout",
     "output_type": "stream",
     "text": [
      "20/20 [==============================] - 0s 3ms/step - loss: 0.7151 - accuracy: 0.8654 - mse: 0.4324 - val_loss: 0.5469 - val_accuracy: 0.8813 - val_mse: 0.4303\n",
      "Epoch 90/100\n",
      "20/20 [==============================] - 0s 3ms/step - loss: 0.2860 - accuracy: 0.8858 - mse: 0.4327 - val_loss: 0.3372 - val_accuracy: 0.8375 - val_mse: 0.4255\n",
      "Epoch 91/100\n",
      "20/20 [==============================] - 0s 3ms/step - loss: 0.3021 - accuracy: 0.8873 - mse: 0.4262 - val_loss: 0.4040 - val_accuracy: 0.8500 - val_mse: 0.4267\n",
      "Epoch 92/100\n",
      "20/20 [==============================] - 0s 3ms/step - loss: 0.6564 - accuracy: 0.8685 - mse: 0.4336 - val_loss: 0.9253 - val_accuracy: 0.7875 - val_mse: 0.4427\n",
      "Epoch 93/100\n",
      "20/20 [==============================] - 0s 4ms/step - loss: 0.4694 - accuracy: 0.8654 - mse: 0.4382 - val_loss: 0.5784 - val_accuracy: 0.8000 - val_mse: 0.4416\n",
      "Epoch 94/100\n",
      "20/20 [==============================] - 0s 3ms/step - loss: 0.5356 - accuracy: 0.8513 - mse: 0.4315 - val_loss: 0.3180 - val_accuracy: 0.8750 - val_mse: 0.4337\n",
      "Epoch 95/100\n",
      "20/20 [==============================] - 0s 4ms/step - loss: 0.2578 - accuracy: 0.8967 - mse: 0.4350 - val_loss: 0.3039 - val_accuracy: 0.8687 - val_mse: 0.4265\n",
      "Epoch 96/100\n",
      "20/20 [==============================] - 0s 3ms/step - loss: 0.2632 - accuracy: 0.9155 - mse: 0.4293 - val_loss: 0.3969 - val_accuracy: 0.8813 - val_mse: 0.4301\n",
      "Epoch 97/100\n",
      "20/20 [==============================] - 0s 3ms/step - loss: 0.4639 - accuracy: 0.8842 - mse: 0.4288 - val_loss: 0.4753 - val_accuracy: 0.8750 - val_mse: 0.4302\n",
      "Epoch 98/100\n",
      "20/20 [==============================] - 0s 3ms/step - loss: 0.5150 - accuracy: 0.8607 - mse: 0.4339 - val_loss: 0.7422 - val_accuracy: 0.8188 - val_mse: 0.4296\n",
      "Epoch 99/100\n",
      "20/20 [==============================] - 0s 3ms/step - loss: 0.3748 - accuracy: 0.8811 - mse: 0.4368 - val_loss: 0.3895 - val_accuracy: 0.8500 - val_mse: 0.4390\n",
      "Epoch 100/100\n",
      "20/20 [==============================] - 0s 3ms/step - loss: 0.2333 - accuracy: 0.9077 - mse: 0.4275 - val_loss: 0.3440 - val_accuracy: 0.8813 - val_mse: 0.4319\n",
      "7/7 - 0s - loss: 0.2693 - accuracy: 0.9050 - mse: 0.4102\n"
     ]
    }
   ],
   "source": [
    "model = keras.models.Sequential()\n",
    "model.add(keras.layers.Conv1D(64, 2, activation=\"relu\", input_shape=(X.shape[1],1)))\n",
    "model.add(keras.layers.Dense(16, activation=\"relu\"))\n",
    "model.add(keras.layers.MaxPooling1D())\n",
    "model.add(keras.layers.Flatten())\n",
    "model.add(keras.layers.Dense(2, activation = 'softmax'))\n",
    "model.summary()\n",
    "model.compile(keras.optimizers.Adam(learning_rate=0.001), loss='sparse_categorical_crossentropy', metrics=['accuracy','mse'])\n",
    "history = model.fit(_X_train, y_train, batch_size=32, epochs=100, verbose=1, validation_split=0.2, shuffle=True)\n",
    "test_loss, test_acc,mse = model.evaluate(_X_test,  y_test, verbose=2)"
   ]
  },
  {
   "cell_type": "code",
   "execution_count": 7,
   "metadata": {
    "tags": []
   },
   "outputs": [
    {
     "name": "stdout",
     "output_type": "stream",
     "text": [
      "Test accuracy: 0.9049999713897705\n",
      "Test mse: 0.41021960973739624\n"
     ]
    }
   ],
   "source": [
    "print('Test accuracy:', test_acc)\n",
    "print('Test mse:', mse)"
   ]
  },
  {
   "cell_type": "code",
   "execution_count": 8,
   "metadata": {
    "tags": []
   },
   "outputs": [
    {
     "name": "stdout",
     "output_type": "stream",
     "text": [
      "7/7 [==============================] - 0s 2ms/step\n",
      "              precision    recall  f1-score   support\n",
      "\n",
      "         0.0       0.89      0.90      0.90        94\n",
      "         1.0       0.91      0.91      0.91       106\n",
      "\n",
      "    accuracy                           0.91       200\n",
      "   macro avg       0.90      0.90      0.90       200\n",
      "weighted avg       0.91      0.91      0.91       200\n",
      "\n"
     ]
    }
   ],
   "source": [
    "pred = model.predict(_X_test, batch_size=32, verbose=1)\n",
    "predicted = np.argmax(pred, axis=1)\n",
    "report = classification_report(y_test, predicted)\n",
    "print(report)"
   ]
  },
  {
   "cell_type": "code",
   "execution_count": 9,
   "metadata": {},
   "outputs": [
    {
     "data": {
      "text/plain": [
       "Text(0.5, 0, 'epoch')"
      ]
     },
     "execution_count": 9,
     "metadata": {},
     "output_type": "execute_result"
    },
    {
     "data": {
      "image/png": "[encoded data removed]",
      "text/plain": [
       "<Figure size 1080x576 with 1 Axes>"
      ]
     },
     "metadata": {
      "needs_background": "light"
     },
     "output_type": "display_data"
    }
   ],
   "source": [
    "figure = plt.figure(figsize=(15, 8))\n",
    "plt.plot(history.history['accuracy'])\n",
    "plt.title('cnn model acc')\n",
    "plt.ylabel('acc')\n",
    "plt.xlabel('epoch')"
   ]
  },
  {
   "cell_type": "markdown",
   "metadata": {},
   "source": [
    "# Save Model To Disk"
   ]
  },
  {
   "cell_type": "code",
   "execution_count": 10,
   "metadata": {},
   "outputs": [],
   "source": [
    "model.save(\"url_phishing.h5\")"
   ]
  },
  {
   "cell_type": "markdown",
   "metadata": {},
   "source": [
    "# Tests"
   ]
  },
  {
   "cell_type": "code",
   "execution_count": 33,
   "metadata": {},
   "outputs": [],
   "source": [
    "data = [1.0, 0.0, 0.0, 0.0, 0.0, 0.0, 0.0, 0.0, 0.0, 0.0, 0.0, 0.0, 0.0, 0.0, 0.0, 0.0, 1.0, 24.0, 1.0, 0.0, 0.0, 0.0, 8.0, 24.0, 0, 0, 0.0, 0.0, 0.0, 0.0, 0.0, 0.0, 0.0, 0.0, 0.0, 0.0, 0.0, 0.0, 0.0, 0.0, 0.0, 0.0, 0.0, 0.0, 0.0, 0.0, 0.0, 0.0, 0.0, 0.0, 0.0, 0.0, 0.0, 0.0, 0.0, 0.0, 0.0, 0.0, 0.0, 0.0, 0.0, 0.0, 0.0, 0.0, 0.0, 0.0, 0.0, 0.0, 0.0, 0.0, 0.0, 0.0, 0.0, 0.0, 0.0, 0, 20.0, 1, 1.270941, 0, 74.0, 1548.0, 277.0, 2.0, 3.0, 1.0, 28.0, 1, 0.0, 0.0, 0.0]"
   ]
  },
  {
   "cell_type": "code",
   "execution_count": 35,
   "metadata": {},
   "outputs": [],
   "source": [
    "data = [1.0, 2.0, 0.0, 0.0, 0.0, 0.0, 0.0, 0.0, 0.0, 0.0, 0.0, 0.0, 0.0, 0.0, 0.0, 0.0, 1.0, 9.0, 1.0, 2.0, 0.0, 0.0, 2.0, 9.0, 0, 0, 0.0, 0.0, 0.0, 0.0, 0.0, 0.0, 0.0, 0.0, 0.0, 0.0, 0.0, 0.0, 0.0, 0.0, 0.0, 0.0, 0.0, 0.0, 0.0, 0.0, 0.0, 0.0, 0.0, 0.0, 0.0, 0.0, 0.0, 0.0, 0.0, 0.0, 0.0, 0.0, 0.0, 0.0, 0.0, 0.0, 0.0, 0.0, 0.0, 0.0, 0.0, 0.0, 0.0, 0.0, 0.0, 0.0, 0.0, 0.0, 0.0, 0, 20.0, 1, 0.727444, 1, 74.0, 0, 0, 1.0, 2.0, 1.0, 1110.0, 0, 0.0, 0.0, 0.0]"
   ]
  },
  {
   "cell_type": "code",
   "execution_count": 37,
   "metadata": {},
   "outputs": [],
   "source": [
    "data = [[2.0, 0.0, 0.0, 1.0, 0.0, 0.0, 0.0, 0.0, 0.0, 0.0, 0.0, 0.0, 0.0, 0.0, 0.0, 0.0, 1.0, 8.0, 0.0, 0.0, 0.0, 0.0, 0.0, 0.0, 0, 0, 1.0, 0.0, 0.0, 1.0, 0.0, 0.0, 0.0, 0.0, 0.0, 0.0, 0.0, 0.0, 0.0, 0.0, 8.0, 1.0, 0.0, 0.0, 0.0, 0.0, 0.0, 0.0, 0.0, 0.0, 0.0, 0.0, 0.0, 0.0, 0.0, 7.0, 0.0, 0.0, 0.0, 0.0, 0.0, 0.0, 0.0, 0.0, 0.0, 0.0, 0.0, 0.0, 0.0, 0.0, 0.0, 0.0, 0.0, 0.0, 0.0, 0, 4.0, 0, 0, 0, 0.0, 0, 0, 6.0, 6.0, 0.0, 14379.0, 1.0, 0, 0.0, 0.0]]"
   ]
  },
  {
   "cell_type": "code",
   "execution_count": 39,
   "metadata": {},
   "outputs": [],
   "source": [
    "data = [2.0,0.0,0.0,3.0,0.0,0.0,0.0,0.0,0.0,0.0,9.0,0.0,0.0,0.0,0.0,0.0,1.0,55.0,1.0,0.0,0.0,0.0,11.0,25.0,0,0,1.0,0.0,0.0,3.0,0.0,0.0,0.0,0.0,0.0,9.0,0.0,0.0,0.0,0.0,30.0,1.0,0.0,0.0,0.0,0.0,0.0,0.0,0.0,9.0,0.0,0.0,0.0,0.0,0.0,17.0,0.0,0.0,0.0,0.0,0.0,0.0,0.0,0.0,0.0,0.0,0.0,0.0,0.0,0.0,0.0,0.0,0.0,0.0,0.0,0,12.0,1,1.760227,0,74.0,0,0,1.0,2.0,1.0,85728.0,0,1.0,0.0,0.0]"
   ]
  },
  {
   "cell_type": "code",
   "execution_count": 41,
   "metadata": {},
   "outputs": [],
   "source": [
    "data = [3.0,0.0,0.0,5.0,0.0,0.0,0.0,0.0,0.0,0.0,9.0,0.0,0.0,0.0,0.0,0.0,1.0,61.0,2.0,0.0,0.0,0.0,6.0,24.0,0,0,1.0,0.0,0.0,5.0,0.0,0.0,0.0,0.0,0.0,9.0,0.0,0.0,0.0,0.0,37.0,1.0,0.0,0.0,0.0,0.0,0.0,0.0,0.0,9.0,0.0,0.0,0.0,0.0,0.0,16.0,0.0,0.0,0.0,0.0,0.0,0.0,0.0,0.0,0.0,0.0,0.0,0.0,0.0,0.0,0.0,0.0,0.0,0.0,0.0,0,12.0,1,3.748484,0,74.0,0,0,1.0,2.0,1.0,45.0,1,0.0,0.0,0.0]"
   ]
  },
  {
   "cell_type": "code",
   "execution_count": 31,
   "metadata": {},
   "outputs": [],
   "source": [
    "def predict(data):\n",
    "    return np.round(model.predict(np.array([np.array([data]).reshape((91,1))])))"
   ]
  },
  {
   "cell_type": "code",
   "execution_count": 42,
   "metadata": {},
   "outputs": [
    {
     "data": {
      "text/plain": [
       "[0.0, 1.0]"
      ]
     },
     "execution_count": 42,
     "metadata": {},
     "output_type": "execute_result"
    }
   ],
   "source": [
    "list(list(predict(data))[0])"
   ]
  },
  {
   "cell_type": "code",
   "execution_count": null,
   "metadata": {},
   "outputs": [],
   "source": []
  }
 ],
 "metadata": {
  "kernelspec": {
   "display_name": "Python 3",
   "language": "python",
   "name": "python3"
  },
  "language_info": {
   "codemirror_mode": {
    "name": "ipython",
    "version": 3
   },
   "file_extension": ".py",
   "mimetype": "text/x-python",
   "name": "python",
   "nbconvert_exporter": "python",
   "pygments_lexer": "ipython3",
   "version": "3.8.2"
  }
 },
 "nbformat": 4,
 "nbformat_minor": 4
}
