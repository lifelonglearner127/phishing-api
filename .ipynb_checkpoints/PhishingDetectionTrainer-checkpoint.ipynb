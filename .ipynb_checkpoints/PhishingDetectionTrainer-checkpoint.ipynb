{
 "cells": [
  {
   "cell_type": "code",
   "execution_count": 1,
   "metadata": {},
   "outputs": [],
   "source": [
    "import warnings\n",
    "warnings.filterwarnings('ignore')\n",
    "\n",
    "import matplotlib.pyplot as plt\n",
    "import numpy as np\n",
    "import pandas as pd\n",
    "\n",
    "from sklearn.model_selection import train_test_split\n",
    "from sklearn.metrics import classification_report\n",
    "from tensorflow import keras"
   ]
  },
  {
   "cell_type": "code",
   "execution_count": 2,
   "metadata": {},
   "outputs": [
    {
     "data": {
      "text/plain": [
       "'\\nclass 0 = legitimate\\nclass 1 = phishing\\n'"
      ]
     },
     "execution_count": 2,
     "metadata": {},
     "output_type": "execute_result"
    }
   ],
   "source": [
    "\"\"\"\n",
    "class 0 = legitimate\n",
    "class 1 = phishing\n",
    "\"\"\""
   ]
  },
  {
   "cell_type": "code",
   "execution_count": 3,
   "metadata": {},
   "outputs": [],
   "source": [
    "\"\"\"\n",
    "    Read and format dataset to fit into CNN model shape (91 features)\n",
    "\"\"\"\n",
    "df_2 = pd.read_csv('dataset/dataset.csv')\n",
    "\n",
    "df_2.phishing = df_2.phishing * 1\n",
    "\n",
    "# df_2.certificado_tls_ssl = df_2.certificado_tls_ssl * 1\n",
    "df_2.ssl = df_2.ssl * 1\n",
    "\n",
    "# df_2.url_indexada_no_google = df_2.url_indexada_no_google * 1\n",
    "# df_2.google_url = df_2.google_url * 1\n",
    "\n",
    "# df_2.dominio_indexado_no_google = df_2.dominio_indexado_no_google * 1\n",
    "# df_2.google_domain = df_2.google_domain * 1\n",
    "\n",
    "# localizacao_geografica_ip_labels = df_2['localizacao_geografica_ip'].astype('category').cat.categories.tolist()\n",
    "# localizacao_geografica_ip_labels = df_2['country'].astype('category').cat.categories.tolist()\n",
    "# localizacao_geografica_ip_labels.append(np.nan)\n",
    "# replace_map_country = {v: i for i, v in enumerate(localizacao_geografica_ip_labels)}\n",
    "\n",
    "\n",
    "# df_2.localizacao_geografica_ip = df_2.localizacao_geografica_ip.apply(lambda x : replace_map_country[x])\n",
    "# df_2.country = df_2.localizacao_geografica_ip.apply(lambda x : replace_map_country[x])\n",
    "\n",
    "# extensao_arquivo_labels = df_2['extensao_arquivo'].astype('category').cat.categories.tolist()\n",
    "# extensao_arquivo_labels = df_2['extension'].astype('category').cat.categories.tolist()\n",
    "# extensao_arquivo_labels.append(np.nan)\n",
    "# replace_map_lang = {v: i for i, v in enumerate(extensao_arquivo_labels)}\n",
    "# df_2.extensao_arquivo = df_2.extensao_arquivo.apply(lambda x : replace_map_lang[x])\n",
    "\n",
    "df_2 = df_2.astype(float)\n",
    "X = df_2.drop('phishing', axis=1)\n",
    "y = df_2['phishing']"
   ]
  },
  {
   "cell_type": "code",
   "execution_count": 4,
   "metadata": {},
   "outputs": [],
   "source": [
    "#dataset 2 (30 features only )\n",
    "# df = pd.read_csv('datasets_10598_14849_dataset.csv')\n",
    "# df.columns = [col.lower() for col in df.columns]\n",
    "# del df['index']\n",
    "# df['result'] = df['result'].apply(lambda x: 0 if x==-1 else 1)\n",
    "# X = df.drop('result', axis=1)\n",
    "# y = df['result']"
   ]
  },
  {
   "cell_type": "code",
   "execution_count": 5,
   "metadata": {},
   "outputs": [],
   "source": [
    "X_train, X_test, y_train, y_test = train_test_split(X, y, test_size=0.2, random_state=42)"
   ]
  },
  {
   "cell_type": "code",
   "execution_count": 6,
   "metadata": {},
   "outputs": [],
   "source": [
    "_X_train=X_train.values.reshape(X_train.shape[0], X_train.shape[1], 1)\n",
    "_X_test=X_test.values.reshape(X_test.shape[0], X_test.shape[1], 1)"
   ]
  },
  {
   "cell_type": "code",
   "execution_count": 7,
   "metadata": {
    "scrolled": true,
    "tags": []
   },
   "outputs": [
    {
     "name": "stdout",
     "output_type": "stream",
     "text": [
      "Model: \"sequential\"\n",
      "_________________________________________________________________\n",
      "Layer (type)                 Output Shape              Param #   \n",
      "=================================================================\n",
      "conv1d (Conv1D)              (None, 90, 64)            192       \n",
      "_________________________________________________________________\n",
      "dense (Dense)                (None, 90, 16)            1040      \n",
      "_________________________________________________________________\n",
      "max_pooling1d (MaxPooling1D) (None, 45, 16)            0         \n",
      "_________________________________________________________________\n",
      "flatten (Flatten)            (None, 720)               0         \n",
      "_________________________________________________________________\n",
      "dense_1 (Dense)              (None, 2)                 1442      \n",
      "=================================================================\n",
      "Total params: 2,674\n",
      "Trainable params: 2,674\n",
      "Non-trainable params: 0\n",
      "_________________________________________________________________\n",
      "Epoch 1/100\n",
      "160/160 [==============================] - 1s 4ms/step - loss: 9.8545 - accuracy: 0.6598 - mse: 0.4347 - val_loss: 6.1352 - val_accuracy: 0.6367 - val_mse: 0.4413\n",
      "Epoch 2/100\n",
      "160/160 [==============================] - 0s 3ms/step - loss: 5.5856 - accuracy: 0.6452 - mse: 0.4383 - val_loss: 3.5321 - val_accuracy: 0.7031 - val_mse: 0.4454\n",
      "Epoch 3/100\n",
      "160/160 [==============================] - 0s 3ms/step - loss: 1.5450 - accuracy: 0.7233 - mse: 0.4050 - val_loss: 1.1991 - val_accuracy: 0.6570 - val_mse: 0.3836\n",
      "Epoch 4/100\n",
      "160/160 [==============================] - 0s 3ms/step - loss: 1.1415 - accuracy: 0.7526 - mse: 0.3999 - val_loss: 0.4346 - val_accuracy: 0.8258 - val_mse: 0.3791\n",
      "Epoch 5/100\n",
      "160/160 [==============================] - 0s 3ms/step - loss: 0.6125 - accuracy: 0.8099 - mse: 0.3885 - val_loss: 0.3856 - val_accuracy: 0.8359 - val_mse: 0.3768\n",
      "Epoch 6/100\n",
      "160/160 [==============================] - 0s 3ms/step - loss: 0.3593 - accuracy: 0.8453 - mse: 0.3791 - val_loss: 0.3900 - val_accuracy: 0.8305 - val_mse: 0.3814\n",
      "Epoch 7/100\n",
      "160/160 [==============================] - 0s 3ms/step - loss: 0.3385 - accuracy: 0.8497 - mse: 0.3848 - val_loss: 0.3740 - val_accuracy: 0.8375 - val_mse: 0.3830\n",
      "Epoch 8/100\n",
      "160/160 [==============================] - 0s 3ms/step - loss: 0.3273 - accuracy: 0.8570 - mse: 0.3904 - val_loss: 0.3751 - val_accuracy: 0.8328 - val_mse: 0.3959\n",
      "Epoch 9/100\n",
      "160/160 [==============================] - 0s 3ms/step - loss: 0.3245 - accuracy: 0.8576 - mse: 0.3933 - val_loss: 0.3697 - val_accuracy: 0.8336 - val_mse: 0.3944\n",
      "Epoch 10/100\n",
      "160/160 [==============================] - 0s 3ms/step - loss: 0.3166 - accuracy: 0.8597 - mse: 0.3956 - val_loss: 0.3518 - val_accuracy: 0.8492 - val_mse: 0.3874\n",
      "Epoch 11/100\n",
      "160/160 [==============================] - 0s 3ms/step - loss: 0.3183 - accuracy: 0.8578 - mse: 0.3948 - val_loss: 0.3672 - val_accuracy: 0.8398 - val_mse: 0.4033\n",
      "Epoch 12/100\n",
      "160/160 [==============================] - 0s 3ms/step - loss: 0.3118 - accuracy: 0.8619 - mse: 0.3981 - val_loss: 0.3448 - val_accuracy: 0.8570 - val_mse: 0.3944\n",
      "Epoch 13/100\n",
      "160/160 [==============================] - 0s 3ms/step - loss: 0.3050 - accuracy: 0.8662 - mse: 0.3996 - val_loss: 0.3435 - val_accuracy: 0.8586 - val_mse: 0.4023\n",
      "Epoch 14/100\n",
      "160/160 [==============================] - 0s 3ms/step - loss: 0.3020 - accuracy: 0.8687 - mse: 0.3992 - val_loss: 0.3430 - val_accuracy: 0.8500 - val_mse: 0.4005\n",
      "Epoch 15/100\n",
      "160/160 [==============================] - 0s 3ms/step - loss: 0.2978 - accuracy: 0.8695 - mse: 0.4007 - val_loss: 0.3392 - val_accuracy: 0.8594 - val_mse: 0.3912\n",
      "Epoch 16/100\n",
      "160/160 [==============================] - 0s 3ms/step - loss: 0.2925 - accuracy: 0.8732 - mse: 0.4026 - val_loss: 0.3309 - val_accuracy: 0.8641 - val_mse: 0.4052\n",
      "Epoch 17/100\n",
      "160/160 [==============================] - 0s 3ms/step - loss: 0.2921 - accuracy: 0.8759 - mse: 0.4019 - val_loss: 0.3290 - val_accuracy: 0.8687 - val_mse: 0.4064\n",
      "Epoch 18/100\n",
      "160/160 [==============================] - 0s 3ms/step - loss: 0.3092 - accuracy: 0.8669 - mse: 0.4010 - val_loss: 0.3923 - val_accuracy: 0.8234 - val_mse: 0.3809\n",
      "Epoch 19/100\n",
      "160/160 [==============================] - 0s 3ms/step - loss: 0.3037 - accuracy: 0.8691 - mse: 0.3985 - val_loss: 0.3380 - val_accuracy: 0.8625 - val_mse: 0.3904\n",
      "Epoch 20/100\n",
      "160/160 [==============================] - 0s 3ms/step - loss: 0.3061 - accuracy: 0.8714 - mse: 0.3975 - val_loss: 0.3321 - val_accuracy: 0.8586 - val_mse: 0.3999\n",
      "Epoch 21/100\n",
      "160/160 [==============================] - 0s 3ms/step - loss: 0.2928 - accuracy: 0.8724 - mse: 0.4015 - val_loss: 0.3425 - val_accuracy: 0.8578 - val_mse: 0.4034\n",
      "Epoch 22/100\n",
      "160/160 [==============================] - 0s 3ms/step - loss: 0.2867 - accuracy: 0.8748 - mse: 0.4025 - val_loss: 0.3275 - val_accuracy: 0.8719 - val_mse: 0.3945\n",
      "Epoch 23/100\n",
      "160/160 [==============================] - 0s 3ms/step - loss: 0.2953 - accuracy: 0.8722 - mse: 0.4017 - val_loss: 0.3296 - val_accuracy: 0.8648 - val_mse: 0.4085\n",
      "Epoch 24/100\n",
      "160/160 [==============================] - 0s 3ms/step - loss: 0.2959 - accuracy: 0.8759 - mse: 0.4051 - val_loss: 0.3446 - val_accuracy: 0.8594 - val_mse: 0.3907\n",
      "Epoch 25/100\n",
      "160/160 [==============================] - 0s 3ms/step - loss: 0.2867 - accuracy: 0.8763 - mse: 0.4056 - val_loss: 0.3353 - val_accuracy: 0.8633 - val_mse: 0.4135\n",
      "Epoch 26/100\n",
      "160/160 [==============================] - 0s 3ms/step - loss: 0.2858 - accuracy: 0.8779 - mse: 0.4071 - val_loss: 0.3374 - val_accuracy: 0.8633 - val_mse: 0.4043\n",
      "Epoch 27/100\n",
      "160/160 [==============================] - 0s 3ms/step - loss: 0.3365 - accuracy: 0.8583 - mse: 0.3957 - val_loss: 0.3639 - val_accuracy: 0.8672 - val_mse: 0.4097\n",
      "Epoch 28/100\n",
      "160/160 [==============================] - 0s 3ms/step - loss: 0.3284 - accuracy: 0.8601 - mse: 0.3959 - val_loss: 0.3932 - val_accuracy: 0.8211 - val_mse: 0.3765\n",
      "Epoch 29/100\n",
      "160/160 [==============================] - 0s 3ms/step - loss: 0.3461 - accuracy: 0.8490 - mse: 0.3839 - val_loss: 0.3840 - val_accuracy: 0.8273 - val_mse: 0.3783\n",
      "Epoch 30/100\n",
      "160/160 [==============================] - 0s 3ms/step - loss: 0.3368 - accuracy: 0.8488 - mse: 0.3837 - val_loss: 0.3763 - val_accuracy: 0.8375 - val_mse: 0.3828\n",
      "Epoch 31/100\n",
      "160/160 [==============================] - 0s 3ms/step - loss: 0.3287 - accuracy: 0.8560 - mse: 0.3884 - val_loss: 0.3699 - val_accuracy: 0.8359 - val_mse: 0.3851\n",
      "Epoch 32/100\n",
      "160/160 [==============================] - 0s 3ms/step - loss: 0.3236 - accuracy: 0.8578 - mse: 0.3894 - val_loss: 0.3648 - val_accuracy: 0.8453 - val_mse: 0.3904\n",
      "Epoch 33/100\n",
      "160/160 [==============================] - 0s 3ms/step - loss: 0.3190 - accuracy: 0.8603 - mse: 0.3921 - val_loss: 0.3585 - val_accuracy: 0.8438 - val_mse: 0.3909\n",
      "Epoch 34/100\n",
      "160/160 [==============================] - 0s 3ms/step - loss: 0.3166 - accuracy: 0.8638 - mse: 0.3934 - val_loss: 0.3619 - val_accuracy: 0.8422 - val_mse: 0.3909\n",
      "Epoch 35/100\n",
      "160/160 [==============================] - 0s 3ms/step - loss: 0.3149 - accuracy: 0.8628 - mse: 0.3951 - val_loss: 0.3491 - val_accuracy: 0.8570 - val_mse: 0.3942\n",
      "Epoch 36/100\n",
      "160/160 [==============================] - 0s 3ms/step - loss: 0.3120 - accuracy: 0.8685 - mse: 0.3965 - val_loss: 0.3478 - val_accuracy: 0.8523 - val_mse: 0.3923\n",
      "Epoch 37/100\n",
      "160/160 [==============================] - 0s 3ms/step - loss: 0.3081 - accuracy: 0.8701 - mse: 0.3960 - val_loss: 0.3454 - val_accuracy: 0.8570 - val_mse: 0.3958\n",
      "Epoch 38/100\n",
      "160/160 [==============================] - 0s 3ms/step - loss: 0.3064 - accuracy: 0.8710 - mse: 0.3982 - val_loss: 0.3499 - val_accuracy: 0.8508 - val_mse: 0.3976\n",
      "Epoch 39/100\n",
      "160/160 [==============================] - 0s 3ms/step - loss: 0.3036 - accuracy: 0.8716 - mse: 0.3992 - val_loss: 0.3433 - val_accuracy: 0.8594 - val_mse: 0.3967\n",
      "Epoch 40/100\n",
      "160/160 [==============================] - 0s 3ms/step - loss: 0.3028 - accuracy: 0.8687 - mse: 0.3995 - val_loss: 0.3358 - val_accuracy: 0.8609 - val_mse: 0.3980\n",
      "Epoch 41/100\n",
      "160/160 [==============================] - 0s 3ms/step - loss: 0.2996 - accuracy: 0.8746 - mse: 0.4001 - val_loss: 0.3335 - val_accuracy: 0.8656 - val_mse: 0.3997\n"
     ]
    },
    {
     "name": "stdout",
     "output_type": "stream",
     "text": [
      "Epoch 42/100\n",
      "160/160 [==============================] - 0s 3ms/step - loss: 0.2987 - accuracy: 0.8714 - mse: 0.4007 - val_loss: 0.3345 - val_accuracy: 0.8594 - val_mse: 0.3990\n",
      "Epoch 43/100\n",
      "160/160 [==============================] - 0s 3ms/step - loss: 0.2969 - accuracy: 0.8732 - mse: 0.4021 - val_loss: 0.3364 - val_accuracy: 0.8578 - val_mse: 0.3997\n",
      "Epoch 44/100\n",
      "160/160 [==============================] - 0s 3ms/step - loss: 0.2943 - accuracy: 0.8755 - mse: 0.4017 - val_loss: 0.3379 - val_accuracy: 0.8578 - val_mse: 0.3996\n",
      "Epoch 45/100\n",
      "160/160 [==============================] - 0s 3ms/step - loss: 0.2942 - accuracy: 0.8759 - mse: 0.4029 - val_loss: 0.3285 - val_accuracy: 0.8687 - val_mse: 0.4010\n",
      "Epoch 46/100\n",
      "160/160 [==============================] - 0s 3ms/step - loss: 0.2932 - accuracy: 0.8753 - mse: 0.4044 - val_loss: 0.3280 - val_accuracy: 0.8672 - val_mse: 0.4024\n",
      "Epoch 47/100\n",
      "160/160 [==============================] - 0s 3ms/step - loss: 0.2909 - accuracy: 0.8759 - mse: 0.4045 - val_loss: 0.3291 - val_accuracy: 0.8602 - val_mse: 0.4004\n",
      "Epoch 48/100\n",
      "160/160 [==============================] - 0s 3ms/step - loss: 0.2906 - accuracy: 0.8738 - mse: 0.4032 - val_loss: 0.3410 - val_accuracy: 0.8586 - val_mse: 0.4022\n",
      "Epoch 49/100\n",
      "160/160 [==============================] - 0s 3ms/step - loss: 0.2897 - accuracy: 0.8753 - mse: 0.4035 - val_loss: 0.3239 - val_accuracy: 0.8680 - val_mse: 0.4019\n",
      "Epoch 50/100\n",
      "160/160 [==============================] - 0s 3ms/step - loss: 0.2872 - accuracy: 0.8791 - mse: 0.4051 - val_loss: 0.3187 - val_accuracy: 0.8680 - val_mse: 0.4028\n",
      "Epoch 51/100\n",
      "160/160 [==============================] - 0s 3ms/step - loss: 0.2883 - accuracy: 0.8789 - mse: 0.4056 - val_loss: 0.3313 - val_accuracy: 0.8617 - val_mse: 0.4053\n",
      "Epoch 52/100\n",
      "160/160 [==============================] - 0s 3ms/step - loss: 0.2860 - accuracy: 0.8791 - mse: 0.4067 - val_loss: 0.3183 - val_accuracy: 0.8719 - val_mse: 0.4052\n",
      "Epoch 53/100\n",
      "160/160 [==============================] - 0s 3ms/step - loss: 0.2856 - accuracy: 0.8787 - mse: 0.4074 - val_loss: 0.3160 - val_accuracy: 0.8680 - val_mse: 0.4058\n",
      "Epoch 54/100\n",
      "160/160 [==============================] - 0s 3ms/step - loss: 0.2848 - accuracy: 0.8791 - mse: 0.4076 - val_loss: 0.3157 - val_accuracy: 0.8734 - val_mse: 0.4068\n",
      "Epoch 55/100\n",
      "160/160 [==============================] - 0s 3ms/step - loss: 0.2848 - accuracy: 0.8751 - mse: 0.4088 - val_loss: 0.3162 - val_accuracy: 0.8719 - val_mse: 0.4071\n",
      "Epoch 56/100\n",
      "160/160 [==============================] - 0s 3ms/step - loss: 0.2820 - accuracy: 0.8802 - mse: 0.4084 - val_loss: 0.3130 - val_accuracy: 0.8687 - val_mse: 0.4075\n",
      "Epoch 57/100\n",
      "160/160 [==============================] - 0s 3ms/step - loss: 0.2844 - accuracy: 0.8757 - mse: 0.4089 - val_loss: 0.3109 - val_accuracy: 0.8742 - val_mse: 0.4074\n",
      "Epoch 58/100\n",
      "160/160 [==============================] - 0s 3ms/step - loss: 0.2818 - accuracy: 0.8775 - mse: 0.4106 - val_loss: 0.3107 - val_accuracy: 0.8766 - val_mse: 0.4088\n",
      "Epoch 59/100\n",
      "160/160 [==============================] - 0s 3ms/step - loss: 0.2793 - accuracy: 0.8783 - mse: 0.4113 - val_loss: 0.3062 - val_accuracy: 0.8773 - val_mse: 0.4088\n",
      "Epoch 60/100\n",
      "160/160 [==============================] - 0s 3ms/step - loss: 0.2760 - accuracy: 0.8822 - mse: 0.4096 - val_loss: 0.3215 - val_accuracy: 0.8602 - val_mse: 0.4056\n",
      "Epoch 61/100\n",
      "160/160 [==============================] - 0s 3ms/step - loss: 0.2815 - accuracy: 0.8791 - mse: 0.4079 - val_loss: 0.3148 - val_accuracy: 0.8664 - val_mse: 0.4067\n",
      "Epoch 62/100\n",
      "160/160 [==============================] - 0s 3ms/step - loss: 0.2797 - accuracy: 0.8830 - mse: 0.4094 - val_loss: 0.3099 - val_accuracy: 0.8719 - val_mse: 0.4060\n",
      "Epoch 63/100\n",
      "160/160 [==============================] - 0s 3ms/step - loss: 0.2795 - accuracy: 0.8843 - mse: 0.4089 - val_loss: 0.3109 - val_accuracy: 0.8680 - val_mse: 0.4081\n",
      "Epoch 64/100\n",
      "160/160 [==============================] - 0s 3ms/step - loss: 0.2790 - accuracy: 0.8800 - mse: 0.4103 - val_loss: 0.3123 - val_accuracy: 0.8711 - val_mse: 0.4096\n",
      "Epoch 65/100\n",
      "160/160 [==============================] - 0s 3ms/step - loss: 0.2782 - accuracy: 0.8830 - mse: 0.4097 - val_loss: 0.3069 - val_accuracy: 0.8766 - val_mse: 0.4115\n",
      "Epoch 66/100\n",
      "160/160 [==============================] - 0s 3ms/step - loss: 0.2769 - accuracy: 0.8814 - mse: 0.4119 - val_loss: 0.3128 - val_accuracy: 0.8672 - val_mse: 0.4103\n",
      "Epoch 67/100\n",
      "160/160 [==============================] - 0s 3ms/step - loss: 0.2775 - accuracy: 0.8845 - mse: 0.4140 - val_loss: 0.3019 - val_accuracy: 0.8758 - val_mse: 0.4105\n",
      "Epoch 68/100\n",
      "160/160 [==============================] - 0s 3ms/step - loss: 0.2732 - accuracy: 0.8857 - mse: 0.4134 - val_loss: 0.3112 - val_accuracy: 0.8703 - val_mse: 0.4098\n",
      "Epoch 69/100\n",
      "160/160 [==============================] - 0s 3ms/step - loss: 0.2712 - accuracy: 0.8837 - mse: 0.4140 - val_loss: 0.2982 - val_accuracy: 0.8750 - val_mse: 0.4112\n",
      "Epoch 70/100\n",
      "160/160 [==============================] - 0s 3ms/step - loss: 0.2735 - accuracy: 0.8808 - mse: 0.4127 - val_loss: 0.3018 - val_accuracy: 0.8766 - val_mse: 0.4107\n",
      "Epoch 71/100\n",
      "160/160 [==============================] - 0s 3ms/step - loss: 0.2856 - accuracy: 0.8798 - mse: 0.4089 - val_loss: 0.3189 - val_accuracy: 0.8672 - val_mse: 0.4110\n",
      "Epoch 72/100\n",
      "160/160 [==============================] - 0s 3ms/step - loss: 0.2769 - accuracy: 0.8802 - mse: 0.4120 - val_loss: 0.3095 - val_accuracy: 0.8711 - val_mse: 0.4099\n",
      "Epoch 73/100\n",
      "160/160 [==============================] - 0s 3ms/step - loss: 0.2810 - accuracy: 0.8830 - mse: 0.4116 - val_loss: 0.3100 - val_accuracy: 0.8766 - val_mse: 0.4076\n",
      "Epoch 74/100\n",
      "160/160 [==============================] - 0s 3ms/step - loss: 0.2755 - accuracy: 0.8837 - mse: 0.4098 - val_loss: 0.3084 - val_accuracy: 0.8727 - val_mse: 0.4116\n",
      "Epoch 75/100\n",
      "160/160 [==============================] - 0s 3ms/step - loss: 0.2755 - accuracy: 0.8841 - mse: 0.4132 - val_loss: 0.3034 - val_accuracy: 0.8797 - val_mse: 0.4126\n",
      "Epoch 76/100\n",
      "160/160 [==============================] - 0s 3ms/step - loss: 0.2718 - accuracy: 0.8882 - mse: 0.4128 - val_loss: 0.3011 - val_accuracy: 0.8734 - val_mse: 0.4149\n",
      "Epoch 77/100\n",
      "160/160 [==============================] - 0s 3ms/step - loss: 0.2718 - accuracy: 0.8886 - mse: 0.4138 - val_loss: 0.2999 - val_accuracy: 0.8828 - val_mse: 0.4144\n",
      "Epoch 78/100\n",
      "160/160 [==============================] - 0s 3ms/step - loss: 0.2709 - accuracy: 0.8863 - mse: 0.4145 - val_loss: 0.3101 - val_accuracy: 0.8750 - val_mse: 0.4123\n",
      "Epoch 79/100\n",
      "160/160 [==============================] - 0s 3ms/step - loss: 0.2714 - accuracy: 0.8853 - mse: 0.4152 - val_loss: 0.3001 - val_accuracy: 0.8727 - val_mse: 0.4139\n",
      "Epoch 80/100\n",
      "160/160 [==============================] - 0s 2ms/step - loss: 0.2717 - accuracy: 0.8871 - mse: 0.4162 - val_loss: 0.2951 - val_accuracy: 0.8797 - val_mse: 0.4131\n",
      "Epoch 81/100\n",
      "160/160 [==============================] - 0s 3ms/step - loss: 0.2707 - accuracy: 0.8867 - mse: 0.4143 - val_loss: 0.2986 - val_accuracy: 0.8781 - val_mse: 0.4138\n",
      "Epoch 82/100\n",
      "160/160 [==============================] - 0s 3ms/step - loss: 0.2704 - accuracy: 0.8843 - mse: 0.4143 - val_loss: 0.3017 - val_accuracy: 0.8750 - val_mse: 0.4141\n",
      "Epoch 83/100\n",
      "160/160 [==============================] - 0s 3ms/step - loss: 0.2696 - accuracy: 0.8869 - mse: 0.4162 - val_loss: 0.2927 - val_accuracy: 0.8813 - val_mse: 0.4134\n",
      "Epoch 84/100\n",
      "160/160 [==============================] - 0s 3ms/step - loss: 0.2691 - accuracy: 0.8871 - mse: 0.4142 - val_loss: 0.2950 - val_accuracy: 0.8805 - val_mse: 0.4166\n",
      "Epoch 85/100\n",
      "160/160 [==============================] - 0s 3ms/step - loss: 0.2656 - accuracy: 0.8884 - mse: 0.4169 - val_loss: 0.3286 - val_accuracy: 0.8531 - val_mse: 0.4154\n",
      "Epoch 86/100\n",
      "160/160 [==============================] - 0s 3ms/step - loss: 0.2682 - accuracy: 0.8896 - mse: 0.4158 - val_loss: 0.2927 - val_accuracy: 0.8766 - val_mse: 0.4121\n",
      "Epoch 87/100\n",
      "160/160 [==============================] - 0s 3ms/step - loss: 0.2681 - accuracy: 0.8890 - mse: 0.4144 - val_loss: 0.3005 - val_accuracy: 0.8742 - val_mse: 0.4137\n",
      "Epoch 88/100\n"
     ]
    },
    {
     "name": "stdout",
     "output_type": "stream",
     "text": [
      "160/160 [==============================] - 0s 3ms/step - loss: 0.2650 - accuracy: 0.8888 - mse: 0.4168 - val_loss: 0.2897 - val_accuracy: 0.8836 - val_mse: 0.4149\n",
      "Epoch 89/100\n",
      "160/160 [==============================] - 0s 2ms/step - loss: 0.2688 - accuracy: 0.8896 - mse: 0.4158 - val_loss: 0.3136 - val_accuracy: 0.8695 - val_mse: 0.4161\n",
      "Epoch 90/100\n",
      "160/160 [==============================] - 0s 2ms/step - loss: 0.2693 - accuracy: 0.8853 - mse: 0.4157 - val_loss: 0.3004 - val_accuracy: 0.8742 - val_mse: 0.4168\n",
      "Epoch 91/100\n",
      "160/160 [==============================] - 0s 2ms/step - loss: 0.2633 - accuracy: 0.8900 - mse: 0.4187 - val_loss: 0.2914 - val_accuracy: 0.8813 - val_mse: 0.4148\n",
      "Epoch 92/100\n",
      "160/160 [==============================] - 0s 3ms/step - loss: 0.2621 - accuracy: 0.8888 - mse: 0.4159 - val_loss: 0.2859 - val_accuracy: 0.8836 - val_mse: 0.4173\n",
      "Epoch 93/100\n",
      "160/160 [==============================] - 0s 2ms/step - loss: 0.2637 - accuracy: 0.8869 - mse: 0.4187 - val_loss: 0.2933 - val_accuracy: 0.8805 - val_mse: 0.4169\n",
      "Epoch 94/100\n",
      "160/160 [==============================] - 0s 3ms/step - loss: 0.2631 - accuracy: 0.8916 - mse: 0.4183 - val_loss: 0.2925 - val_accuracy: 0.8820 - val_mse: 0.4169\n",
      "Epoch 95/100\n",
      "160/160 [==============================] - 0s 3ms/step - loss: 0.2688 - accuracy: 0.8908 - mse: 0.4173 - val_loss: 0.2965 - val_accuracy: 0.8797 - val_mse: 0.4168\n",
      "Epoch 96/100\n",
      "160/160 [==============================] - 0s 3ms/step - loss: 0.2634 - accuracy: 0.8916 - mse: 0.4187 - val_loss: 0.2881 - val_accuracy: 0.8828 - val_mse: 0.4136\n",
      "Epoch 97/100\n",
      "160/160 [==============================] - 0s 3ms/step - loss: 0.2615 - accuracy: 0.8898 - mse: 0.4172 - val_loss: 0.2891 - val_accuracy: 0.8852 - val_mse: 0.4164\n",
      "Epoch 98/100\n",
      "160/160 [==============================] - 0s 3ms/step - loss: 0.2627 - accuracy: 0.8871 - mse: 0.4187 - val_loss: 0.2888 - val_accuracy: 0.8867 - val_mse: 0.4148\n",
      "Epoch 99/100\n",
      "160/160 [==============================] - 1s 3ms/step - loss: 0.2601 - accuracy: 0.8929 - mse: 0.4179 - val_loss: 0.2853 - val_accuracy: 0.8828 - val_mse: 0.4162\n",
      "Epoch 100/100\n",
      "160/160 [==============================] - 0s 3ms/step - loss: 0.2587 - accuracy: 0.8949 - mse: 0.4189 - val_loss: 0.2881 - val_accuracy: 0.8867 - val_mse: 0.4158\n",
      "50/50 - 0s - loss: 0.2532 - accuracy: 0.8950 - mse: 0.4173\n"
     ]
    }
   ],
   "source": [
    "model = keras.models.Sequential()\n",
    "model.add(keras.layers.Conv1D(64, 2, activation=\"relu\", input_shape=(X.shape[1],1)))\n",
    "model.add(keras.layers.Dense(16, activation=\"relu\"))\n",
    "model.add(keras.layers.MaxPooling1D())\n",
    "model.add(keras.layers.Flatten())\n",
    "model.add(keras.layers.Dense(2, activation = 'softmax'))\n",
    "model.summary()\n",
    "model.compile(keras.optimizers.Adam(learning_rate=0.001), loss='sparse_categorical_crossentropy', metrics=['accuracy','mse'])\n",
    "history = model.fit(_X_train, y_train, batch_size=32, epochs=100, verbose=1, validation_split=0.2, shuffle=True)\n",
    "test_loss, test_acc,mse = model.evaluate(_X_test,  y_test, verbose=2)"
   ]
  },
  {
   "cell_type": "code",
   "execution_count": 8,
   "metadata": {
    "tags": []
   },
   "outputs": [
    {
     "name": "stdout",
     "output_type": "stream",
     "text": [
      "Test accuracy: 0.8949999809265137\n",
      "Test mse: 0.4172542691230774\n"
     ]
    }
   ],
   "source": [
    "print('Test accuracy:', test_acc)\n",
    "print('Test mse:', mse)"
   ]
  },
  {
   "cell_type": "code",
   "execution_count": 9,
   "metadata": {
    "tags": []
   },
   "outputs": [
    {
     "name": "stdout",
     "output_type": "stream",
     "text": [
      "50/50 [==============================] - 0s 1ms/step\n",
      "              precision    recall  f1-score   support\n",
      "\n",
      "         0.0       0.92      0.87      0.89       814\n",
      "         1.0       0.88      0.92      0.90       786\n",
      "\n",
      "    accuracy                           0.90      1600\n",
      "   macro avg       0.90      0.90      0.89      1600\n",
      "weighted avg       0.90      0.90      0.89      1600\n",
      "\n"
     ]
    }
   ],
   "source": [
    "pred = model.predict(_X_test, batch_size=32, verbose=1)\n",
    "predicted = np.argmax(pred, axis=1)\n",
    "report = classification_report(y_test, predicted)\n",
    "print(report)"
   ]
  },
  {
   "cell_type": "code",
   "execution_count": 10,
   "metadata": {},
   "outputs": [
    {
     "data": {
      "text/plain": [
       "Text(0.5, 0, 'epoch')"
      ]
     },
     "execution_count": 10,
     "metadata": {},
     "output_type": "execute_result"
    },
    {
     "data": {
      "image/png": "[encoded data removed]",
      "text/plain": [
       "<Figure size 1080x576 with 1 Axes>"
      ]
     },
     "metadata": {
      "needs_background": "light"
     },
     "output_type": "display_data"
    }
   ],
   "source": [
    "figure = plt.figure(figsize=(15, 8))\n",
    "plt.plot(history.history['accuracy'])\n",
    "plt.title('cnn model acc')\n",
    "plt.ylabel('acc')\n",
    "plt.xlabel('epoch')"
   ]
  },
  {
   "cell_type": "markdown",
   "metadata": {},
   "source": [
    "# Save Model To Disk"
   ]
  },
  {
   "cell_type": "code",
   "execution_count": 11,
   "metadata": {},
   "outputs": [],
   "source": [
    "model.save(\"url_phishing.h5\")"
   ]
  },
  {
   "cell_type": "markdown",
   "metadata": {},
   "source": [
    "# Tests"
   ]
  },
  {
   "cell_type": "code",
   "execution_count": 33,
   "metadata": {},
   "outputs": [],
   "source": [
    "data = [1.0, 0.0, 0.0, 0.0, 0.0, 0.0, 0.0, 0.0, 0.0, 0.0, 0.0, 0.0, 0.0, 0.0, 0.0, 0.0, 1.0, 24.0, 1.0, 0.0, 0.0, 0.0, 8.0, 24.0, 0, 0, 0.0, 0.0, 0.0, 0.0, 0.0, 0.0, 0.0, 0.0, 0.0, 0.0, 0.0, 0.0, 0.0, 0.0, 0.0, 0.0, 0.0, 0.0, 0.0, 0.0, 0.0, 0.0, 0.0, 0.0, 0.0, 0.0, 0.0, 0.0, 0.0, 0.0, 0.0, 0.0, 0.0, 0.0, 0.0, 0.0, 0.0, 0.0, 0.0, 0.0, 0.0, 0.0, 0.0, 0.0, 0.0, 0.0, 0.0, 0.0, 0.0, 0, 20.0, 1, 1.270941, 0, 74.0, 1548.0, 277.0, 2.0, 3.0, 1.0, 28.0, 1, 0.0, 0.0, 0.0]"
   ]
  },
  {
   "cell_type": "code",
   "execution_count": 35,
   "metadata": {},
   "outputs": [],
   "source": [
    "data = [1.0, 2.0, 0.0, 0.0, 0.0, 0.0, 0.0, 0.0, 0.0, 0.0, 0.0, 0.0, 0.0, 0.0, 0.0, 0.0, 1.0, 9.0, 1.0, 2.0, 0.0, 0.0, 2.0, 9.0, 0, 0, 0.0, 0.0, 0.0, 0.0, 0.0, 0.0, 0.0, 0.0, 0.0, 0.0, 0.0, 0.0, 0.0, 0.0, 0.0, 0.0, 0.0, 0.0, 0.0, 0.0, 0.0, 0.0, 0.0, 0.0, 0.0, 0.0, 0.0, 0.0, 0.0, 0.0, 0.0, 0.0, 0.0, 0.0, 0.0, 0.0, 0.0, 0.0, 0.0, 0.0, 0.0, 0.0, 0.0, 0.0, 0.0, 0.0, 0.0, 0.0, 0.0, 0, 20.0, 1, 0.727444, 1, 74.0, 0, 0, 1.0, 2.0, 1.0, 1110.0, 0, 0.0, 0.0, 0.0]"
   ]
  },
  {
   "cell_type": "code",
   "execution_count": 37,
   "metadata": {},
   "outputs": [],
   "source": [
    "data = [[2.0, 0.0, 0.0, 1.0, 0.0, 0.0, 0.0, 0.0, 0.0, 0.0, 0.0, 0.0, 0.0, 0.0, 0.0, 0.0, 1.0, 8.0, 0.0, 0.0, 0.0, 0.0, 0.0, 0.0, 0, 0, 1.0, 0.0, 0.0, 1.0, 0.0, 0.0, 0.0, 0.0, 0.0, 0.0, 0.0, 0.0, 0.0, 0.0, 8.0, 1.0, 0.0, 0.0, 0.0, 0.0, 0.0, 0.0, 0.0, 0.0, 0.0, 0.0, 0.0, 0.0, 0.0, 7.0, 0.0, 0.0, 0.0, 0.0, 0.0, 0.0, 0.0, 0.0, 0.0, 0.0, 0.0, 0.0, 0.0, 0.0, 0.0, 0.0, 0.0, 0.0, 0.0, 0, 4.0, 0, 0, 0, 0.0, 0, 0, 6.0, 6.0, 0.0, 14379.0, 1.0, 0, 0.0, 0.0]]"
   ]
  },
  {
   "cell_type": "code",
   "execution_count": 39,
   "metadata": {},
   "outputs": [],
   "source": [
    "data = [2.0,0.0,0.0,3.0,0.0,0.0,0.0,0.0,0.0,0.0,9.0,0.0,0.0,0.0,0.0,0.0,1.0,55.0,1.0,0.0,0.0,0.0,11.0,25.0,0,0,1.0,0.0,0.0,3.0,0.0,0.0,0.0,0.0,0.0,9.0,0.0,0.0,0.0,0.0,30.0,1.0,0.0,0.0,0.0,0.0,0.0,0.0,0.0,9.0,0.0,0.0,0.0,0.0,0.0,17.0,0.0,0.0,0.0,0.0,0.0,0.0,0.0,0.0,0.0,0.0,0.0,0.0,0.0,0.0,0.0,0.0,0.0,0.0,0.0,0,12.0,1,1.760227,0,74.0,0,0,1.0,2.0,1.0,85728.0,0,1.0,0.0,0.0]"
   ]
  },
  {
   "cell_type": "code",
   "execution_count": 41,
   "metadata": {},
   "outputs": [],
   "source": [
    "data = [3.0,0.0,0.0,5.0,0.0,0.0,0.0,0.0,0.0,0.0,9.0,0.0,0.0,0.0,0.0,0.0,1.0,61.0,2.0,0.0,0.0,0.0,6.0,24.0,0,0,1.0,0.0,0.0,5.0,0.0,0.0,0.0,0.0,0.0,9.0,0.0,0.0,0.0,0.0,37.0,1.0,0.0,0.0,0.0,0.0,0.0,0.0,0.0,9.0,0.0,0.0,0.0,0.0,0.0,16.0,0.0,0.0,0.0,0.0,0.0,0.0,0.0,0.0,0.0,0.0,0.0,0.0,0.0,0.0,0.0,0.0,0.0,0.0,0.0,0,12.0,1,3.748484,0,74.0,0,0,1.0,2.0,1.0,45.0,1,0.0,0.0,0.0]"
   ]
  },
  {
   "cell_type": "code",
   "execution_count": 31,
   "metadata": {},
   "outputs": [],
   "source": [
    "def predict(data):\n",
    "    return np.round(model.predict(np.array([np.array([data]).reshape((91,1))])))"
   ]
  },
  {
   "cell_type": "code",
   "execution_count": 42,
   "metadata": {},
   "outputs": [
    {
     "data": {
      "text/plain": [
       "[0.0, 1.0]"
      ]
     },
     "execution_count": 42,
     "metadata": {},
     "output_type": "execute_result"
    }
   ],
   "source": [
    "list(list(predict(data))[0])"
   ]
  },
  {
   "cell_type": "code",
   "execution_count": null,
   "metadata": {},
   "outputs": [],
   "source": []
  }
 ],
 "metadata": {
  "kernelspec": {
   "display_name": "Python 3",
   "language": "python",
   "name": "python3"
  },
  "language_info": {
   "codemirror_mode": {
    "name": "ipython",
    "version": 3
   },
   "file_extension": ".py",
   "mimetype": "text/x-python",
   "name": "python",
   "nbconvert_exporter": "python",
   "pygments_lexer": "ipython3",
   "version": "3.8.2"
  }
 },
 "nbformat": 4,
 "nbformat_minor": 4
}
